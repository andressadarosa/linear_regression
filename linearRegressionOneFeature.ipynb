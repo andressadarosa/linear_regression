{
 "cells": [
  {
   "cell_type": "code",
   "execution_count": 16,
   "metadata": {},
   "outputs": [],
   "source": [
    "import numpy as np\n",
    "import pandas as pd\n",
    "import matplotlib.pyplot as plt\n",
    "\n",
    "import os "
   ]
  },
  {
   "cell_type": "markdown",
   "metadata": {},
   "source": [
    "## Linear Regression with one variable"
   ]
  },
  {
   "cell_type": "markdown",
   "metadata": {},
   "source": [
    "### Problem\n",
    "We will implement linear regression with one variable to predict profits for a food truck. Suppose you are the CEO of a restaurant franchise and are considering different cities for opening a new outlet. The chain already has trucks in various cities and you have data for profits and populations from the cities. You would like to use this data to help you select which city to expand to next."
   ]
  },
  {
   "cell_type": "markdown",
   "metadata": {},
   "source": [
    "The first column is the population of a city and the second column is the profit of a food truck in that city. A negative value for profit indicates a loss. "
   ]
  },
  {
   "cell_type": "code",
   "execution_count": 17,
   "metadata": {},
   "outputs": [
    {
     "data": {
      "text/html": [
       "<div>\n",
       "<style scoped>\n",
       "    .dataframe tbody tr th:only-of-type {\n",
       "        vertical-align: middle;\n",
       "    }\n",
       "\n",
       "    .dataframe tbody tr th {\n",
       "        vertical-align: top;\n",
       "    }\n",
       "\n",
       "    .dataframe thead th {\n",
       "        text-align: right;\n",
       "    }\n",
       "</style>\n",
       "<table border=\"1\" class=\"dataframe\">\n",
       "  <thead>\n",
       "    <tr style=\"text-align: right;\">\n",
       "      <th></th>\n",
       "      <th>0</th>\n",
       "      <th>1</th>\n",
       "    </tr>\n",
       "  </thead>\n",
       "  <tbody>\n",
       "    <tr>\n",
       "      <th>0</th>\n",
       "      <td>6.1101</td>\n",
       "      <td>17.5920</td>\n",
       "    </tr>\n",
       "    <tr>\n",
       "      <th>1</th>\n",
       "      <td>5.5277</td>\n",
       "      <td>9.1302</td>\n",
       "    </tr>\n",
       "    <tr>\n",
       "      <th>2</th>\n",
       "      <td>8.5186</td>\n",
       "      <td>13.6620</td>\n",
       "    </tr>\n",
       "    <tr>\n",
       "      <th>3</th>\n",
       "      <td>7.0032</td>\n",
       "      <td>11.8540</td>\n",
       "    </tr>\n",
       "    <tr>\n",
       "      <th>4</th>\n",
       "      <td>5.8598</td>\n",
       "      <td>6.8233</td>\n",
       "    </tr>\n",
       "  </tbody>\n",
       "</table>\n",
       "</div>"
      ],
      "text/plain": [
       "        0        1\n",
       "0  6.1101  17.5920\n",
       "1  5.5277   9.1302\n",
       "2  8.5186  13.6620\n",
       "3  7.0032  11.8540\n",
       "4  5.8598   6.8233"
      ]
     },
     "execution_count": 17,
     "metadata": {},
     "output_type": "execute_result"
    }
   ],
   "source": [
    "data =pd.read_csv('data.csv', header = None)\n",
    "data.head(5)"
   ]
  },
  {
   "cell_type": "code",
   "execution_count": 18,
   "metadata": {},
   "outputs": [
    {
     "data": {
      "text/plain": [
       "194"
      ]
     },
     "execution_count": 18,
     "metadata": {},
     "output_type": "execute_result"
    }
   ],
   "source": [
    "data.size"
   ]
  },
  {
   "cell_type": "markdown",
   "metadata": {},
   "source": [
    "### Ploting the data"
   ]
  },
  {
   "cell_type": "markdown",
   "metadata": {},
   "source": [
    "Before starting on any task, it is often useful to understand the data by visualizing it. For this dataset, we can use a scatter plot to visualize the data. It has only two properties to plot (profit and population)."
   ]
  },
  {
   "cell_type": "code",
   "execution_count": 19,
   "metadata": {},
   "outputs": [
    {
     "name": "stdout",
     "output_type": "stream",
     "text": [
      "97\n"
     ]
    }
   ],
   "source": [
    "X = np.array(data.iloc[:,0]) # read first column\n",
    "y = np.array(data.iloc[:,1]) # read second column\n",
    "\n",
    "m = len(y)\n",
    "print(m)"
   ]
  },
  {
   "cell_type": "code",
   "execution_count": 20,
   "metadata": {},
   "outputs": [
    {
     "data": {
      "image/png": "[encoded data removed]",
      "text/plain": [
       "<Figure size 432x288 with 1 Axes>"
      ]
     },
     "metadata": {
      "needs_background": "light"
     },
     "output_type": "display_data"
    }
   ],
   "source": [
    "plt.scatter(X,y)\n",
    "plt.title('Population vs Profit')\n",
    "plt.xlabel('Population of City in 10,000s')\n",
    "plt.ylabel('Profit in $10,000s')\n",
    "plt.show()"
   ]
  },
  {
   "cell_type": "markdown",
   "metadata": {},
   "source": [
    "### Gradient Descent"
   ]
  },
  {
   "cell_type": "markdown",
   "metadata": {},
   "source": [
    "In this part, we will fit the linear regression parameters θ to our dataset using gradient descent. The objective of linear regression is to minimize the cost function where the hypothesis hθ(x) is given by the linear model."
   ]
  },
  {
   "cell_type": "code",
   "execution_count": 21,
   "metadata": {},
   "outputs": [],
   "source": [
    "# adding the intercept term\n",
    "ones = np.ones((m,1)) \n",
    "\n",
    "# Add a column of ones to X. The numpy function stack joins arrays along a given axis. \n",
    "# The first axis (axis=0) refers to rows (training examples) \n",
    "# and second axis (axis=1) refers to columns (features).\n",
    "\n",
    "X = np.stack([np.ones(m), X], axis=1)\n"
   ]
  },
  {
   "cell_type": "code",
   "execution_count": 22,
   "metadata": {},
   "outputs": [],
   "source": [
    "#Testing the cost function\n",
    "def computeCost(X,y,theta):\n",
    "    J = (np.sum(np.power((np.dot(X, theta) - y),2)))/(2*m)\n",
    "    return J"
   ]
  },
  {
   "cell_type": "markdown",
   "metadata": {},
   "source": [
    "### Computing the cost J(θ)"
   ]
  },
  {
   "cell_type": "markdown",
   "metadata": {},
   "source": [
    "As we perform gradient descent to learn minimize the cost function J(θ), it is helpful to monitor the convergence by computing the cost. In this section, we will implement a function to calculate J(θ) so we can check the convergence of our gradient descent implementation."
   ]
  },
  {
   "cell_type": "markdown",
   "metadata": {},
   "source": [
    "First of all lets calculate Cost. remember that the variables X and y are not scalar values, but matrices whose rows represent the examples from the training set. Once we have completed the function, the next step is to run computeCost once using θ initialized to zeros, and we will see the cost printed to the screen.\n",
    "\n",
    "You should expect to see a cost of 32.07"
   ]
  },
  {
   "cell_type": "code",
   "execution_count": 23,
   "metadata": {},
   "outputs": [
    {
     "name": "stdout",
     "output_type": "stream",
     "text": [
      "With theta = [0, 0] \n",
      "Cost computed = 32.07\n"
     ]
    }
   ],
   "source": [
    "#compute and display initial cost\n",
    "theta = np.zeros(2)\n",
    "J = computeCost(X, y, theta)\n",
    "print('With theta = [0, 0] \\nCost computed = %.2f' % J)"
   ]
  },
  {
   "cell_type": "code",
   "execution_count": 24,
   "metadata": {},
   "outputs": [
    {
     "name": "stdout",
     "output_type": "stream",
     "text": [
      "With theta = [-1, 2]\n",
      "Cost computed = 54.24\n"
     ]
    }
   ],
   "source": [
    "theta = np.array([-1,2])\n",
    "J = computeCost(X, y, theta)\n",
    "print('With theta = [-1, 2]\\nCost computed = %.2f' % J)"
   ]
  },
  {
   "cell_type": "markdown",
   "metadata": {},
   "source": [
    "### Gradient Descent"
   ]
  },
  {
   "cell_type": "markdown",
   "metadata": {},
   "source": [
    "Next calculate gradient descent. That will help us finding values for theta to reduce cost function. "
   ]
  },
  {
   "cell_type": "markdown",
   "metadata": {},
   "source": [
    "As we program, Keep in mind that the cost J(θ) is parameterized by the vector θ, not X and y. That is, we minimize the value of J(θ) by changing the values of the vector θ, not by changing X or y. Refer to the equations in this handout and to the video lectures if you are uncertain from coursera machine learning by Prof. ANdrew Ng. A good way to verify that gradient descent is working correctly is to look at the value of J(θ) and check that it is decreasing with each step."
   ]
  },
  {
   "cell_type": "markdown",
   "metadata": {},
   "source": [
    "Assuming we have implemented gradient descent and computeCost correctly, our value of J(θ) should never increase, and should converge to a steady value by the end of the algorithm."
   ]
  },
  {
   "cell_type": "code",
   "execution_count": 26,
   "metadata": {},
   "outputs": [
    {
     "data": {
      "text/plain": [
       "'\\nPerforms gradient descent to learn `theta`. Updates theta by taking `num_iters`\\ngradient steps with learning rate `alpha`.\\n\\nParameters\\n----------\\nX : array_like\\n    The input dataset of shape (m x n+1).\\n\\ny : arra_like\\n    Value at given features. A vector of shape (m, ).\\n\\ntheta : array_like\\n    Initial values for the linear regression parameters. \\n    A vector of shape (n+1, ).\\n\\nalpha : float\\n    The learning rate.\\n\\nnum_iters : int\\n    The number of iterations for gradient descent. \\n\\nReturns\\n-------\\ntheta : array_like\\n    The learned linear regression parameters. A vector of shape (n+1, ).\\n\\nJ_history : list\\n    A python list for the values of the cost function after each iteration.\\n\\nInstructions\\n------------\\nPeform a single gradient step on the parameter vector theta.\\n\\nWhile debugging, it can be useful to print out the values of \\nthe cost function (computeCost) and gradient here.\\n'"
      ]
     },
     "execution_count": 26,
     "metadata": {},
     "output_type": "execute_result"
    }
   ],
   "source": [
    "\"\"\"\n",
    "Performs gradient descent to learn `theta`. Updates theta by taking `num_iters`\n",
    "gradient steps with learning rate `alpha`.\n",
    "\n",
    "Parameters\n",
    "----------\n",
    "X : array_like\n",
    "    The input dataset of shape (m x n+1).\n",
    "\n",
    "y : arra_like\n",
    "    Value at given features. A vector of shape (m, ).\n",
    "\n",
    "theta : array_like\n",
    "    Initial values for the linear regression parameters. \n",
    "    A vector of shape (n+1, ).\n",
    "\n",
    "alpha : float\n",
    "    The learning rate.\n",
    "\n",
    "num_iters : int\n",
    "    The number of iterations for gradient descent. \n",
    "\n",
    "Returns\n",
    "-------\n",
    "theta : array_like\n",
    "    The learned linear regression parameters. A vector of shape (n+1, ).\n",
    "\n",
    "J_history : list\n",
    "    A python list for the values of the cost function after each iteration.\n",
    "\n",
    "Instructions\n",
    "------------\n",
    "Peform a single gradient step on the parameter vector theta.\n",
    "\n",
    "While debugging, it can be useful to print out the values of \n",
    "the cost function (computeCost) and gradient here.\n",
    "\"\"\""
   ]
  },
  {
   "cell_type": "code",
   "execution_count": 27,
   "metadata": {},
   "outputs": [],
   "source": [
    "def gradientDescent(X,y,theta,alpha,iterations):\n",
    "    m = y.size\n",
    "    J_history = np.zeros(iterations)\n",
    "    \n",
    "    for i in np.arange(iterations):\n",
    "        h = X.dot(theta)\n",
    "        theta = theta - alpha * (1/m) * (X.T.dot(h-y))\n",
    "        J_history[i] = computeCost(X,y,theta)\n",
    "    return(theta, J_history)"
   ]
  },
  {
   "cell_type": "code",
   "execution_count": 28,
   "metadata": {},
   "outputs": [
    {
     "name": "stdout",
     "output_type": "stream",
     "text": [
      "\n",
      "Running Gradient Descent ...\n",
      "\n",
      "theta: [-3.70968912  1.17433871]\n"
     ]
    },
    {
     "data": {
      "image/png": "[encoded data removed]",
      "text/plain": [
       "<Figure size 432x288 with 1 Axes>"
      ]
     },
     "metadata": {
      "needs_background": "light"
     },
     "output_type": "display_data"
    }
   ],
   "source": [
    "print('\\nRunning Gradient Descent ...\\n')\n",
    "\n",
    "#Some gradient descent settings\n",
    "iterations = 1500\n",
    "alpha = 0.01\n",
    "\n",
    "theta, Cost_J = gradientDescent(X, y, theta, alpha, iterations)\n",
    "print('theta:', theta.ravel())\n",
    "\n",
    "plt.plot(Cost_J)\n",
    "plt.xlabel('Iterations')\n",
    "plt.ylabel('Cost_J')\n",
    "plt.show()"
   ]
  },
  {
   "cell_type": "markdown",
   "metadata": {},
   "source": [
    "Now compute cost function with optimized value of theta."
   ]
  },
  {
   "cell_type": "code",
   "execution_count": 29,
   "metadata": {},
   "outputs": [
    {
     "name": "stdout",
     "output_type": "stream",
     "text": [
      "cost function with optimized value of theta:  4.480124083926929\n"
     ]
    }
   ],
   "source": [
    "J = computeCost(X, y, theta)\n",
    "print('cost function with optimized value of theta: ',J)"
   ]
  },
  {
   "cell_type": "markdown",
   "metadata": {},
   "source": [
    "New cost function value is 4.48.. which is much better then 32.07"
   ]
  },
  {
   "cell_type": "markdown",
   "metadata": {},
   "source": [
    "Lets use these final/optimized parameters to plot the linear fit."
   ]
  },
  {
   "cell_type": "code",
   "execution_count": 30,
   "metadata": {},
   "outputs": [
    {
     "data": {
      "image/png": "[encoded data removed]",
      "text/plain": [
       "<Figure size 432x288 with 1 Axes>"
      ]
     },
     "metadata": {
      "needs_background": "light"
     },
     "output_type": "display_data"
    }
   ],
   "source": [
    "plt.scatter(X[:,1],y, label = 'Training Data')\n",
    "plt.title('Population vs Profit')\n",
    "plt.xlabel('Population of City in 10,000s')\n",
    "plt.ylabel('Profit in $10,000s')\n",
    "plt.plot(X[:,1], X.dot(theta),color='red',label='Hypothesis: h(x) = %0.2f + %0.2fx'%(theta[0],theta[1]))\n",
    "plt.legend(loc='best')\n",
    "plt.show()\n"
   ]
  },
  {
   "cell_type": "markdown",
   "metadata": {},
   "source": [
    "Predict profit for a city with population of 35000 and 70000 hypothesis equation hθ"
   ]
  },
  {
   "cell_type": "code",
   "execution_count": 31,
   "metadata": {},
   "outputs": [
    {
     "name": "stdout",
     "output_type": "stream",
     "text": [
      "For population = 35,000, we predict a profit of  4004.9636044995873\n",
      "For population = 70,000, we predict a profit of  45106.818401639284\n"
     ]
    }
   ],
   "source": [
    "#% Predict values for population sizes of 35,000 and 70,000\n",
    "\n",
    "predict1 = np.dot([1, 3.5],theta) # takes inner product to get y\n",
    "predict2 = np.dot([1, 7],theta) # takes inner product to get y\n",
    "\n",
    "print('For population = 35,000, we predict a profit of ', predict1*10000)\n",
    "print('For population = 70,000, we predict a profit of ', predict2*10000)"
   ]
  }
 ],
 "metadata": {
  "kernelspec": {
   "display_name": "Python 3.10.5 64-bit (windows store)",
   "language": "python",
   "name": "python3"
  },
  "language_info": {
   "codemirror_mode": {
    "name": "ipython",
    "version": 3
   },
   "file_extension": ".py",
   "mimetype": "text/x-python",
   "name": "python",
   "nbconvert_exporter": "python",
   "pygments_lexer": "ipython3",
   "version": "3.10.5"
  },
  "orig_nbformat": 4,
  "vscode": {
   "interpreter": {
    "hash": "ab4020b22aa0af336a18b3a77a18a4a6f563ef6e3d818e14ea4f4432fff65fa3"
   }
  }
 },
 "nbformat": 4,
 "nbformat_minor": 2
}
